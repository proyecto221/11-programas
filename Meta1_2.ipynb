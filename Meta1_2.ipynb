{
  "nbformat": 4,
  "nbformat_minor": 0,
  "metadata": {
    "colab": {
      "provenance": []
    },
    "kernelspec": {
      "name": "python3",
      "display_name": "Python 3"
    },
    "language_info": {
      "name": "python"
    }
  },
  "cells": [
    {
      "cell_type": "code",
      "execution_count": null,
      "metadata": {
        "id": "OxI7c6hd_YKZ"
      },
      "outputs": [],
      "source": [
        "# Determinar si un numero es par o impar.\n",
        "\n",
        "print(\"Bienvenido, ingrese un numero del 1 al 1000.\") \n",
        "num = int(input())\n",
        "if num % 2 == 0:\n",
        "     print(f\"El numero\", num,\"es PAR\")\n",
        "else:\n",
        "     print(f\"El numero\",num,\"es IMPAR\")"
      ]
    },
    {
      "cell_type": "code",
      "source": [
        "# MADS LIBS GAME \n",
        "color = input(\"Ingrese un color: \")\n",
        "plural = input(\"Ingrese un sustantivo en plural:\")\n",
        "celebridad = input(\"Ingrese alguna celebridad: \")\n",
        "\n",
        "print(f\"Las rosas son de color\",color)\n",
        "print(plural + \"estan bien chidos\")\n",
        "print(f\"Me gusta mucho\",celebridad)"
      ],
      "metadata": {
        "id": "3wQO26IXDRcZ"
      },
      "execution_count": null,
      "outputs": []
    },
    {
      "cell_type": "code",
      "source": [
        "#WORD COUNT \n",
        "print(\"Wow me contaste en que estabas pensando con {} palabras\".format(len(input(\"¿En que estas pensando el dia de hoy?\").split())))\n",
        "\n"
      ],
      "metadata": {
        "id": "rXlrxH_uFvz8"
      },
      "execution_count": null,
      "outputs": []
    },
    {
      "cell_type": "code",
      "source": [
        "#BIOGRAFIA \n",
        "\n",
        "nombre = input(\"¿Cual es tu nombre completo?\")\n",
        "while nombre == \"\" :\n",
        "    print(\"Por favor ingrese solo letras.\")\n",
        "    nombre = input(\"¿Cual es tu nombre completo?\")\n",
        "    \n",
        "fechan = input(\"¿Cual es tu fecha de nacimiento?\")\n",
        "while fechan == \"\":\n",
        "    print(\"Por favor ingrese su fecha de nacimiento.\")\n",
        "    fechan = input(\"¿Cual es tu fecha de nacimiento?\")\n",
        "direccion = input(\"¿Cual es tu direccion?\")\n",
        "while direccion == \"\":\n",
        "    print(\"Por favor ingrese su direccion.\")\n",
        "    direccion = input(\"¿Cual es tu direccion?\")\n",
        "metas = input(\"¿Cuales son tus metas en la vida?\")\n",
        "while metas == \"\":\n",
        "    print(\"Por favor ingrese sus metas.\")\n",
        "    metas = input(\"¿Cuales son tus metas en la vida?\")\n",
        "   \n",
        "\n",
        "print(f\"-Nombre:\",nombre,\"\\n\",\"-Fecha de nacimiento:\",fechan,\"\\n\",\"-Direccion:\",direccion,\"\\n\",\"-Metas:\",metas)"
      ],
      "metadata": {
        "id": "ziGbcXJ9IVDv"
      },
      "execution_count": null,
      "outputs": []
    },
    {
      "cell_type": "code",
      "source": [
        "\n",
        "def acronimo(stng):\n",
        "    div = stng.split()\n",
        "    salida= \"\"\n",
        "    \n",
        "    for palabra in div:\n",
        "\t\n",
        "\t\t# obtener la primera letra de cada palabra\n",
        "       salida += palabra[0]\n",
        "\t\t\n",
        "\t# salida en \n",
        "    salida = salida.upper()\n",
        "    return salida \n",
        " \n",
        "\n",
        "# input string\n",
        "input1 = input(\"Ingresa las palabras que desees para crear tu acronimo:\")\n",
        "\n",
        "# output acronym\n",
        "print(acronimo(input1))\n"
      ],
      "metadata": {
        "id": "7gdca_1eRhkV"
      },
      "execution_count": null,
      "outputs": []
    },
    {
      "cell_type": "code",
      "source": [
        "#Piedra papel o tijeras\n",
        "\n",
        "from random import randint\n",
        " \n",
        "eleccion = [\"piedra\",\"papel\",\"tijeras\"]\n",
        "def main():\n",
        "\n",
        "    computadora = eleccion[randint(0,2)]\n",
        " \n",
        "    print(\"Bienvenido al juego de piedra, papel o tijeras.\\n\")\n",
        "    jugador = input(\"Tu eleccion: \").lower()\n",
        "    print(\"Eleccion de la computadora: \" + computadora)\n",
        " \n",
        "    if jugador == computadora:\n",
        "        print(\"Empate\")\n",
        "    elif jugador == \"piedra\" and computadora == \"papel\":\n",
        "        print(\"El ganador es la computadora\")\n",
        "    elif jugador == \"piedra\" and computadora == \"tijeras\":\n",
        "        print(\"Ganaste\")\n",
        "    elif jugador == \"papel\" and computadora == \"piedra\":\n",
        "        print(\"Ganaste\")\n",
        "    elif jugador == \"papel\" and computadora == \"tijeras\":\n",
        "        print(\"El ganador es la computadora\")\n",
        "    elif jugador == \"tijeras\" and computadora  == \"piedra\":\n",
        "        print(\"El ganador es la computadora\")\n",
        "    elif jugador == \"tijeras\" and computadora == \"papel\":\n",
        "        print(\"Ganaste\")\n",
        "    elif jugador == \"Fin\":\n",
        "        StopIteration\n",
        " \n",
        "    main()\n",
        " \n",
        "main()"
      ],
      "metadata": {
        "id": "aeKGS9G2XMLT"
      },
      "execution_count": null,
      "outputs": []
    },
    {
      "cell_type": "code",
      "source": [
        "import random \n",
        "\n",
        "numero = random.randrange(1,50)\n",
        "adivina = int(input(\"Adivina un numero entre el 1 y el 50:\"))\n",
        "\n",
        "while adivina != numero:\n",
        "    if adivina < numero:\n",
        "      print(\"Es un numero mas grande, sigue intentando.\")\n",
        "      adivina = int(input(\"\\nAdivina un numero entre el 1 y el 50:\"))\n",
        "    else:\n",
        "      print(\"Es un numero mas pequeño, sigue intentando.\")\n",
        "      adivina = int(input(\"\\nAdivina un numero entre el 1 y el 50:\"))\n",
        "print(\"Adivinaste el numero, felicidades.\")\n",
        " "
      ],
      "metadata": {
        "id": "csrCUMEKYhhE"
      },
      "execution_count": null,
      "outputs": []
    },
    {
      "cell_type": "code",
      "source": [
        "def convertInputString():\n",
        "    rawInput = input(\"\\nIngrese una palabra o frase para checar si es palindroma: \") \n",
        "    rawString = rawInput.lower() \n",
        "    rawList = list(rawString) \n",
        "    return rawList\n",
        "\n",
        "def stripAnalphabetics(dirtyList): \n",
        "    analphabeticList = [\" \", \"-\", \".\", \",\", \":\", \";\", \"!\", \"?\", \"'\", \"\\\"\"] \n",
        "    for character in analphabeticList: \n",
        "        if character in dirtyList: \n",
        "            dirtyList.remove(character) \n",
        "            return stripAnalphabetics(dirtyList)\n",
        "    return dirtyList \n",
        "\n",
        "def runPalindromeCheck(straightList):\n",
        "    reversedList = straightList[::-1] \n",
        "    if reversedList == straightList: \n",
        "        return \"El texto que ingresaste es palindroma.\" \n",
        "    else: \n",
        "        return \"El texto que ingresaste no es palindroma.\" \n",
        "\n",
        "def main(): \n",
        "    print(\"\\nChecador de palabras palindromas.\") \n",
        "    originalList = convertInputString()  \n",
        "    originalList = stripAnalphabetics(originalList) \n",
        "    palindromeCheck = runPalindromeCheck(originalList)\n",
        "    print(palindromeCheck)\n",
        "\n",
        "main() "
      ],
      "metadata": {
        "id": "WObTtiVba3o-"
      },
      "execution_count": null,
      "outputs": []
    },
    {
      "cell_type": "code",
      "source": [
        "total = int(input(\"Ingrese el monto total de la cuenta, por favor:\"))\n",
        "propina = int(input(\"Cuanto desea dejar de propina, el 18%, 20% o 25%:\"))\n",
        "porc = (total*(propina/100))\n",
        "mtotal = total+porc\n",
        "print(f\"El equivalente al\",propina,\"%\",\"es\",porc,\" y el monto total es de:\",mtotal)"
      ],
      "metadata": {
        "id": "7nfKosA4bj0H"
      },
      "execution_count": null,
      "outputs": []
    },
    {
      "cell_type": "code",
      "source": [
        "# Obtener el correo electronico \n",
        "email = input(\"Ingrese su correo electronico: \").strip()\n",
        "\n",
        "user_name = email[:email.index(\"@\")]\n",
        "\n",
        "domain_name = email[email.index(\"@\")+1:]\n",
        "\n",
        "if domain_name == \"gmail.com\":\n",
        "         output = \"Hey '{}' tu correo esta registrado con Google, ya que lleva el dominio '{}', genial.\".format(user_name,domain_name)\n",
        "         print(output)\n",
        "else:\n",
        "        output = \"Hey '{}' tu correo tiene un dominio personalizado, ya que lleva el dominio '{}', genial.\".format(user_name,domain_name)\n",
        "        print(output)\n",
        "        \n"
      ],
      "metadata": {
        "id": "wFlrT_7Gfax6"
      },
      "execution_count": null,
      "outputs": []
    },
    {
      "cell_type": "code",
      "source": [
        "seleccionar = int(input(\"Seleccione la cancion que desea ver su letra:\\n1)Drake-Hotline Bling\\n2)Joji-Glimpse of us\\n3)Eminem-Lose yourself\\n4)Joji-Die for you\\n5)Lil peep-Stay Shooting\\n6)21 Savage-Bank Account\\n7)Lil Uzi Vert-XO Tour Lif3\\n8)Travis Scott-Sicko Mode\\n9)Juice WRLD-Lucid Dreams\\n10)Juice WRLD-Wasted\\n\"))\n",
        "band = 0;\n",
        "while band == 0:\n",
        "   if seleccionar == 1:\n",
        "      print(\"Hotline Bling by Drake\\nYou used to call me on my cell phone\\n Late night when you need my love\\n Call me on my cell phone\\n Late night when you need my love\\n And I know when that hotline bling\\n That can only mean one thing\\nI know when that hotline bling\\n That can only mean one thing\")\n",
        "      band = int(input(\"Ingrese 0 para desplegar otra cancion o ingrese 1 para salir.\"))\n",
        "      if band == 0:\n",
        "        seleccionar = int(input(\"Seleccione la cancion que desea ver su letra:\\n1)Drake-Hotline Bling\\n2)Joji-Glimpse of us\\n3)Eminem-Lose yourself\\n4)Joji-Die for you\\n5)Lil peep-Stay Shooting\\n6)21 Savage-Bank Account\\n7)Lil Uzi Vert-XO Tour Lif3\\n8)Travis Scott-Sicko Mode\\n9)Juice WRLD-Lucid Dreams\\n10)Juice WRLD-Wasted\\n\"))      \n",
        "   elif seleccionar == 2:\n",
        "      print(\"She'd take the world off my shoulders\\nIf it was ever hard to move\\nShe'd turn the rain to a rainbow\\nWhen I was living in the blue\\nWhy then, if she is so perfect\\nDo I still wish that it was you?\\nPerfect don't mean that it's working\\nSo what can I do? (Ooh)\")\n",
        "      band = int(input(\"Ingrese 0 para desplegar otra cancion o ingrese 1 para salir.\"))\n",
        "      if band == 0:\n",
        "        seleccionar = int(input(\"Seleccione la cancion que desea ver su letra:\\n1)Drake-Hotline Bling\\n2)Joji-Glimpse of us\\n3)Eminem-Lose yourself\\n4)Joji-Die for you\\n5)Lil peep-Stay Shooting\\n6)21 Savage-Bank Account\\n7)Lil Uzi Vert-XO Tour Lif3\\n8)Travis Scott-Sicko Mode\\n9)Juice WRLD-Lucid Dreams\\n10)Juice WRLD-Wasted\\n\")) \n",
        "   elif seleccionar == 3:\n",
        "     print(\"His palms are sweaty, knees weak, arms are heavy\\nThere's vomit on his sweater already, mom's spaghetti\\nHe's nervous, but on the surface he looks calm and ready\\nTo drop bombs, but he keeps on forgettin'\")\n",
        "     band = int(input(\"Ingrese 0 para desplegar otra cancion o ingrese 1 para salir.\"))\n",
        "     if band == 0:\n",
        "        seleccionar = int(input(\"Seleccione la cancion que desea ver su letra:\\n1)Drake-Hotline Bling\\n2)Joji-Glimpse of us\\n3)Eminem-Lose yourself\\n4)Joji-Die for you\\n5)Lil peep-Stay Shooting\\n6)21 Savage-Bank Account\\n7)Lil Uzi Vert-XO Tour Lif3\\n8)Travis Scott-Sicko Mode\\n9)Juice WRLD-Lucid Dreams\\n10)Juice WRLD-Wasted\\n\")) \n",
        "   elif seleccionar == 4:\n",
        "     print(\"Swear I couldn't sleep a wink last night\\nNo point in turning off the lights\\nNot the same without your head on my shoulders\\nGrowing pains, but I don't wanna get older\\nAlmost like we left it all on read\")\n",
        "     band = int(input(\"Ingrese 0 para desplegar otra cancion o ingrese 1 para salir.\"))\n",
        "     if band == 0:\n",
        "        seleccionar = int(input(\"Seleccione la cancion que desea ver su letra:\\n1)Drake-Hotline Bling\\n2)Joji-Glimpse of us\\n3)Eminem-Lose yourself\\n4)Joji-Die for you\\n5)Lil peep-Stay Shooting\\n6)21 Savage-Bank Account\\n7)Lil Uzi Vert-XO Tour Lif3\\n8)Travis Scott-Sicko Mode\\n9)Juice WRLD-Lucid Dreams\\n10)Juice WRLD-Wasted\\n\")) \n",
        "   elif seleccionar == 5:\n",
        "      print(\"Wait right here\\nI'll be back in the morning\\nI know that I'm not that important to you\\nBut to me, girl, you're so much more than gorgeous\\nSo much more than perfect\")\n",
        "      band = int(input(\"Ingrese 0 para desplegar otra cancion o ingrese 1 para salir.\"))\n",
        "      if band == 0:\n",
        "        seleccionar = int(input(\"Seleccione la cancion que desea ver su letra:\\n1)Drake-Hotline Bling\\n2)Joji-Glimpse of us\\n3)Eminem-Lose yourself\\n4)Joji-Die for you\\n5)Lil peep-Stay Shooting\\n6)21 Savage-Bank Account\\n7)Lil Uzi Vert-XO Tour Lif3\\n8)Travis Scott-Sicko Mode\\n9)Juice WRLD-Lucid Dreams\\n10)Juice WRLD-Wasted\\n\")) \n",
        "   elif seleccionar == 6:\n",
        "      print(\"I buy a new car for the bitch (for real)\\nI tear down the mall with the bitch (for real)\\nYou can't even talk to the bitch (no)\\nShe fucking with bosses and shit (on God)\")\n",
        "      band = int(input(\"Ingrese 0 para desplegar otra cancion o ingrese 1 para salir.\"))\n",
        "      if band == 0:\n",
        "        seleccionar = int(input(\"Seleccione la cancion que desea ver su letra:\\n1)Drake-Hotline Bling\\n2)Joji-Glimpse of us\\n3)Eminem-Lose yourself\\n4)Joji-Die for you\\n5)Lil peep-Stay Shooting\\n6)21 Savage-Bank Account\\n7)Lil Uzi Vert-XO Tour Lif3\\n8)Travis Scott-Sicko Mode\\n9)Juice WRLD-Lucid Dreams\\n10)Juice WRLD-Wasted\\n\")) \n",
        "   elif seleccionar == 7:\n",
        "      print(\"I don't really care if you cry\\nOn the real you should've never lied\\nShould've saw the way she looked me in my eyes\\nShe said, Baby, I am not afraid to, die\")\n",
        "      band = int(input(\"Ingrese 0 para desplegar otra cancion o ingrese 1 para salir.\"))\n",
        "      if band == 0:\n",
        "        seleccionar = int(input(\"Seleccione la cancion que desea ver su letra:\\n1)Drake-Hotline Bling\\n2)Joji-Glimpse of us\\n3)Eminem-Lose yourself\\n4)Joji-Die for you\\n5)Lil peep-Stay Shooting\\n6)21 Savage-Bank Account\\n7)Lil Uzi Vert-XO Tour Lif3\\n8)Travis Scott-Sicko Mode\\n9)Juice WRLD-Lucid Dreams\\n10)Juice WRLD-Wasted\\n\")) \n",
        "   elif seleccionar == 8:\n",
        "     print(\"Woo, made this here with all the ice on in the booth\\nAt the gate outside, when they pull up, they get me loose\\nYeah, Jump Out boys, that's Nike boys, hoppin' out coupes\\nThis shit way too big, when we pull up give me the loot\")\n",
        "     band = int(input(\"Ingrese 0 para desplegar otra cancion o ingrese 1 para salir.\"))\n",
        "     if band == 0:\n",
        "        seleccionar = int(input(\"Seleccione la cancion que desea ver su letra:\\n1)Drake-Hotline Bling\\n2)Joji-Glimpse of us\\n3)Eminem-Lose yourself\\n4)Joji-Die for you\\n5)Lil peep-Stay Shooting\\n6)21 Savage-Bank Account\\n7)Lil Uzi Vert-XO Tour Lif3\\n8)Travis Scott-Sicko Mode\\n9)Juice WRLD-Lucid Dreams\\n10)Juice WRLD-Wasted\\n\")) \n",
        "   elif seleccionar == 9:\n",
        "      print(\"I still see your shadows in my room\\nCan't take back the love that I gave you\\nIt's to the point where I love and I hate you\\nAnd I cannot change you so I must replace you (oh)\")\n",
        "      band = int(input(\"Ingrese 0 para desplegar otra cancion o ingrese 1 para salir.\"))\n",
        "      if band == 0:\n",
        "        seleccionar = int(input(\"Seleccione la cancion que desea ver su letra:\\n1)Drake-Hotline Bling\\n2)Joji-Glimpse of us\\n3)Eminem-Lose yourself\\n4)Joji-Die for you\\n5)Lil peep-Stay Shooting\\n6)21 Savage-Bank Account\\n7)Lil Uzi Vert-XO Tour Lif3\\n8)Travis Scott-Sicko Mode\\n9)Juice WRLD-Lucid Dreams\\n10)Juice WRLD-Wasted\\n\")) \n",
        "   elif seleccionar == 10:\n",
        "      print(\"Wasted, GTA love, b- wasted\\nWasted, I'm on these d-, I feel wasted\\nWasted, get her off my mind when I'm wasted\\nWasted, I waste all my time when I'm wasted\")\n",
        "      band = int(input(\"Ingrese 0 para desplegar otra cancion o ingrese 1 para salir.\"))\n",
        "      if band == 0:\n",
        "        seleccionar = int(input(\"Seleccione la cancion que desea ver su letra:\\n1)Drake-Hotline Bling\\n2)Joji-Glimpse of us\\n3)Eminem-Lose yourself\\n4)Joji-Die for you\\n5)Lil peep-Stay Shooting\\n6)21 Savage-Bank Account\\n7)Lil Uzi Vert-XO Tour Lif3\\n8)Travis Scott-Sicko Mode\\n9)Juice WRLD-Lucid Dreams\\n10)Juice WRLD-Wasted\\n\")) \n",
        "\n",
        "print(\"Gracias por usar este programa\")"
      ],
      "metadata": {
        "id": "phCNJ1oLiqmt"
      },
      "execution_count": null,
      "outputs": []
    },
    {
      "cell_type": "code",
      "source": [],
      "metadata": {
        "id": "DgFmuHJyt6w6"
      },
      "execution_count": null,
      "outputs": []
    },
    {
      "cell_type": "code",
      "source": [],
      "metadata": {
        "id": "YJv5veRfiqtb"
      },
      "execution_count": null,
      "outputs": []
    }
  ]
}